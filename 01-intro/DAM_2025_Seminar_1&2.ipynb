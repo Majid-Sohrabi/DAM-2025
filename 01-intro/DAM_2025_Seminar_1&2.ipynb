{
  "nbformat": 4,
  "nbformat_minor": 0,
  "metadata": {
    "colab": {
      "provenance": [],
      "toc_visible": true
    },
    "kernelspec": {
      "name": "python3",
      "display_name": "Python 3"
    },
    "language_info": {
      "name": "python"
    }
  },
  "cells": [
    {
      "cell_type": "markdown",
      "source": [
        "# Seminars 1&2"
      ],
      "metadata": {
        "id": "f0eY8WA_gQ1b"
      }
    },
    {
      "cell_type": "markdown",
      "source": [
        "Seminars and home assignments will be in Jupyter notebooks.\n",
        "\n",
        "It is possible to open and edit notebooks (.ipynb files) with\n",
        "\n",
        "\n",
        "\n",
        "*   [JupyterLab](https://jupyter.org/try-jupyter/lab/)\n",
        "*   [Google Colab](https://colab.research.google.com/)\n",
        "\n",
        "\n",
        "\n"
      ],
      "metadata": {
        "id": "Vw3eNFmzgSWu"
      }
    },
    {
      "cell_type": "markdown",
      "source": [
        "Notebooks are useful, because they combine code cells and text cells.\n",
        "\n",
        "In text cells we can write formulas $\\alpha^7 = \\frac{1}{6}$, **text in bold** and *italic*"
      ],
      "metadata": {
        "id": "IfIDM82_hQu0"
      }
    },
    {
      "cell_type": "markdown",
      "source": [
        "And even add pictures, here is the logo of python:\n",
        "\n",
        "![image.png](data:image/png;base64,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)"
      ],
      "metadata": {
        "id": "2nLsK981h-CE"
      }
    },
    {
      "cell_type": "markdown",
      "source": [
        "In code cells we can write python code"
      ],
      "metadata": {
        "id": "H7KTrAHaiVu-"
      }
    },
    {
      "cell_type": "code",
      "execution_count": null,
      "metadata": {
        "id": "N3ssmrwhgOR3"
      },
      "outputs": [],
      "source": [
        "a = 7\n",
        "b = a + 1\n",
        "b"
      ]
    },
    {
      "cell_type": "markdown",
      "source": [
        "We may print something:"
      ],
      "metadata": {
        "id": "fIq9JvRMYmlE"
      }
    },
    {
      "cell_type": "code",
      "source": [
        "print('printing something useful: 2+2=', 2+2)"
      ],
      "metadata": {
        "id": "8GcBVH2pYg-q"
      },
      "execution_count": null,
      "outputs": []
    },
    {
      "cell_type": "markdown",
      "source": [
        "If we make a mistake in code, different errors wil be rased:"
      ],
      "metadata": {
        "id": "voQWIUOBYold"
      }
    },
    {
      "cell_type": "code",
      "source": [
        "#we cannot divide by zero! error!!\n",
        "5 / 0"
      ],
      "metadata": {
        "id": "nUaum3HSYtfR"
      },
      "execution_count": null,
      "outputs": []
    },
    {
      "cell_type": "markdown",
      "source": [
        "## Python"
      ],
      "metadata": {
        "id": "Qfmz06UvimjR"
      }
    },
    {
      "cell_type": "markdown",
      "source": [
        "### Total recall"
      ],
      "metadata": {
        "id": "ZeXFnJ2tsu6s"
      }
    },
    {
      "cell_type": "markdown",
      "source": [
        "Let's start with python basics:"
      ],
      "metadata": {
        "id": "Jg2f78IhinhG"
      }
    },
    {
      "cell_type": "code",
      "source": [
        "a = int(' 2 ')\n",
        "b = 3\n",
        "b = a ** b"
      ],
      "metadata": {
        "id": "20gsPm2vjYad"
      },
      "execution_count": null,
      "outputs": []
    },
    {
      "cell_type": "markdown",
      "source": [
        "**Questions**\n",
        "\n",
        "\n",
        "\n",
        "\n",
        "*   What are `a` and `b`?\n",
        "*   What is `int` and why do we use it here?\n",
        "*   What will `b` equal after the code executes?\n",
        "\n",
        "\n",
        "\n"
      ],
      "metadata": {
        "id": "2HayEq_dk6qH"
      }
    },
    {
      "cell_type": "markdown",
      "source": [
        "More complicated example:"
      ],
      "metadata": {
        "id": "yI_qHbL9lO2z"
      }
    },
    {
      "cell_type": "code",
      "source": [
        "arr1 = [1, 7, -1, 9, -12]\n",
        "arr2 = arr1[1:4]"
      ],
      "metadata": {
        "id": "ZbK3nj_2lMkT"
      },
      "execution_count": null,
      "outputs": []
    },
    {
      "cell_type": "markdown",
      "source": [
        "**Questions**\n",
        "\n",
        "\n",
        "\n",
        "\n",
        "*   What type is `arr1`?\n",
        "*   What `[` and `]` mean? Why there are numbers inside them?\n",
        "*   What will `arr2` equal after the code executes?\n"
      ],
      "metadata": {
        "id": "rhptz2nFlcDF"
      }
    },
    {
      "cell_type": "markdown",
      "source": [
        "Another example ([Source](https://ru.wikipedia.org/wiki/%D0%A1%D0%BF%D0%B8%D1%81%D0%BE%D0%BA_%D1%81%D1%83%D0%B1%D1%8A%D0%B5%D0%BA%D1%82%D0%BE%D0%B2_%D0%A0%D0%BE%D1%81%D1%81%D0%B8%D0%B9%D1%81%D0%BA%D0%BE%D0%B9_%D0%A4%D0%B5%D0%B4%D0%B5%D1%80%D0%B0%D1%86%D0%B8%D0%B8_%D0%BF%D0%BE_%D1%87%D0%B8%D1%81%D0%BB%D0%B5%D0%BD%D0%BD%D0%BE%D1%81%D1%82%D0%B8_%D1%81%D1%82%D1%83%D0%B4%D0%B5%D0%BD%D1%82%D0%BE%D0%B2) of data)"
      ],
      "metadata": {
        "id": "KlazW7_XmF3E"
      }
    },
    {
      "cell_type": "code",
      "source": [
        "#Number of students in Russia by region in 2015\n",
        "number_of_students = {'Moscow' : 757350,\n",
        "                      'Saint Petersburg' : 302907,\n",
        "                      'Tatarstan' : 163201,\n",
        "                      'Rostov Oblast' : 149160\n",
        "                     }\n",
        "\n",
        "number_of_students['Sverdlovsk Oblast'] = 135370\n",
        "\n",
        "if number_of_students['Sverdlovsk Oblast'] < number_of_students['Moscow']:\n",
        "  print('Moscow is bigger')\n",
        "else:\n",
        "  print('Sverdlovsk is bigger')"
      ],
      "metadata": {
        "id": "xEdJr4ZEmHpB"
      },
      "execution_count": null,
      "outputs": []
    },
    {
      "cell_type": "markdown",
      "source": [
        "**Questions**\n",
        "\n",
        "\n",
        "\n",
        "\n",
        "*   What type is `number_of_students`?\n",
        "*   How do we use names of regions?\n",
        "*   Why phrase *Moscow is bigger* was printed?"
      ],
      "metadata": {
        "id": "IBrFcnyvmHLU"
      }
    },
    {
      "cell_type": "code",
      "source": [
        "def is_an_only_child(number_of_siblings):\n",
        "  return number_of_siblings == 0\n",
        "\n",
        "\n",
        "is_an_only_child(0), is_an_only_child(2), is_an_only_child('no siblings')"
      ],
      "metadata": {
        "id": "2iY9T_J5qqCs"
      },
      "execution_count": null,
      "outputs": []
    },
    {
      "cell_type": "markdown",
      "source": [
        "**Questions**\n",
        "\n",
        "\n",
        "\n",
        "\n",
        "* What is `def` and `is_an_only_child`?\n",
        "* Why do we use `==` and not `=`?\n",
        "* Why do we get `False` for `'no siblings'`?"
      ],
      "metadata": {
        "id": "bkv7FeIdrEMl"
      }
    },
    {
      "cell_type": "markdown",
      "source": [
        "### Tasks"
      ],
      "metadata": {
        "id": "LqGNBz-rspRt"
      }
    },
    {
      "cell_type": "markdown",
      "source": [
        "**Task** We have a list of numbers of people who immigrated to Russia in 2018 ([Source](https://en.wikipedia.org/wiki/Immigration_to_Russia) of data) from different countries. Write code to compute the total number of immigrants."
      ],
      "metadata": {
        "id": "73O-biL1qAC7"
      }
    },
    {
      "cell_type": "code",
      "source": [
        "immigrants = [67929, 44408, 55378, 46442, 72141, 7067, 10509, 26690, 5032,\n",
        "              137776, 19045, 30676, 3981, 6345]\n",
        "#your code here"
      ],
      "metadata": {
        "id": "11iNwe_iqkYN"
      },
      "execution_count": null,
      "outputs": []
    },
    {
      "cell_type": "markdown",
      "source": [
        "**Task** We have a list of courses 2 lecturers teach. Write code to find courses that are being taught by both lecturers."
      ],
      "metadata": {
        "id": "x0fIoAmKrDeX"
      }
    },
    {
      "cell_type": "code",
      "source": [
        "lecturer1 = ['Applied Quantitative Logistics', 'Data Analytics and Mining',\n",
        "             'Intro to Programming in Python', 'Intro to Programming in Python',\n",
        "             'Machine Learning', 'Machine Learning and Data Mining',\n",
        "             'Statistics for Social Science']\n",
        "\n",
        "lecturer2 = ['Collection, Management and Analysis of Data on Social Processes',\n",
        "             'Data Analytics and Mining', 'Introduction into Python',\n",
        "             'Foundations of Machine Learning', 'Machine Learning 1'\n",
        "             'Language Models in Sociology', 'Machine Learning and Data Mining',\n",
        "             'Social Networks', 'Network Science',\n",
        "             'Structural Analysis and Visualization of Networks']\n",
        "\n",
        "#your code here"
      ],
      "metadata": {
        "id": "H54VlAAWreJJ"
      },
      "execution_count": null,
      "outputs": []
    },
    {
      "cell_type": "markdown",
      "source": [
        "**Task** We have a dictionary of countries and  the size of their population in million ([Source](https://ec.europa.eu/eurostat/web/interactive-publications/demography-2025) of data) in 2024. Write code to find the most populous country."
      ],
      "metadata": {
        "id": "2jtCLgJ8oEiZ"
      }
    },
    {
      "cell_type": "code",
      "source": [
        "countries = {'France': 68.4,\n",
        "             'Germany': 83.4,\n",
        "             'Poland': 36.6,\n",
        "             'Italy': 58.9,\n",
        "             'Spain': 48.6\n",
        "            }\n",
        "\n",
        "#your code here"
      ],
      "metadata": {
        "id": "I0Bi58SjoEpN"
      },
      "execution_count": null,
      "outputs": []
    },
    {
      "cell_type": "markdown",
      "source": [
        "**Task** Write a function that given the list of ages computes the number of children (younger than 18 years)"
      ],
      "metadata": {
        "id": "DATNi_AiG8NM"
      }
    },
    {
      "cell_type": "code",
      "source": [
        "def compute_number_of_children(ages):\n",
        "  #your code here\n",
        "\n",
        "compute_number_of_children([45, 14, 24, 49, 7, 2, 18])"
      ],
      "metadata": {
        "id": "Q8T2fyTTHKSG"
      },
      "execution_count": null,
      "outputs": []
    },
    {
      "cell_type": "markdown",
      "source": [
        "### Call for questions ✋"
      ],
      "metadata": {
        "id": "XpD69oUfpsI5"
      }
    },
    {
      "cell_type": "markdown",
      "source": [
        "If you have **questions about Python** (variables, operations, arithmetics, `if`, `for`, lists, dictionaries) - feel free to ask them!"
      ],
      "metadata": {
        "id": "tfSkAKdEpugI"
      }
    },
    {
      "cell_type": "code",
      "source": [
        "print('Questions?'+'\\n'*20)"
      ],
      "metadata": {
        "id": "H7zzLxxnTXZj"
      },
      "execution_count": null,
      "outputs": []
    },
    {
      "cell_type": "markdown",
      "source": [
        "## Numpy"
      ],
      "metadata": {
        "id": "kZAabXcltPk1"
      }
    },
    {
      "cell_type": "markdown",
      "source": [
        "### Why do we need it"
      ],
      "metadata": {
        "id": "Oxo9q5fSyCF5"
      }
    },
    {
      "cell_type": "markdown",
      "source": [
        "Data mining and analytics requires to work with a lot of data. For example, if we are investigating countries/regions we may collect numerical data about:\n",
        "\n",
        "* Size of population\n",
        "* Age of residents\n",
        "* Number of children\n",
        "* Gross domestic product (GDP)\n",
        "* Human Development Index (HDI)\n",
        "* Access to electricity/water in percent\n",
        "* School enrollment in percent, etc.\n",
        "* What else?\n",
        "\n",
        "\n",
        "So, we need special instruments to work with arrays of data. We can use only python lists/dictionary, but\n",
        "\n",
        "*   there are not enough functions\n",
        "*   it is slow\n",
        "\n",
        "So, we need to use additional libraries (reminder: python *library* is an additional module which we can download and use in our code).\n",
        "\n",
        "\n"
      ],
      "metadata": {
        "id": "ziDsQayWtQ3q"
      }
    },
    {
      "cell_type": "markdown",
      "source": [
        "Example of slow code: let us imagine the situation that we know the age of every person in Russia (there are about 144 million of people)."
      ],
      "metadata": {
        "id": "Qi4IX2PwwZjZ"
      }
    },
    {
      "cell_type": "code",
      "source": [
        "#fake data for example :) - 130 million of adults and 14 million of children\n",
        "ages = [30] * 130000000 + [7] * 14000000\n",
        "len(ages)"
      ],
      "metadata": {
        "id": "soygodSgwMNt"
      },
      "execution_count": null,
      "outputs": []
    },
    {
      "cell_type": "markdown",
      "source": [
        "And we want to find out, how many children there are in Russia. Let's use our function:"
      ],
      "metadata": {
        "id": "v3oxg56Yxg-b"
      }
    },
    {
      "cell_type": "code",
      "source": [
        "compute_number_of_children(ages)"
      ],
      "metadata": {
        "id": "EhmzmYFOxhWI"
      },
      "execution_count": null,
      "outputs": []
    },
    {
      "cell_type": "markdown",
      "source": [
        "It may take 10-30 seconds. This does not seems like a lot, but if we are analysing the data, conducting experiments, finding out different information (how many senior citizens? What is average salary of citizens? Do men and women have same salaries?) waiting is not an option."
      ],
      "metadata": {
        "id": "9K18uFeQx3sc"
      }
    },
    {
      "cell_type": "markdown",
      "source": [
        "### Numpy basics"
      ],
      "metadata": {
        "id": "9HNSz5mayvEy"
      }
    },
    {
      "cell_type": "markdown",
      "source": [
        "Numpy is a library for working with arrays.\n",
        "\n",
        "Why use numpy?\n",
        "\n",
        "*   Convenience: numpy is designed for working with numerical arrays.\n",
        "*   Functionality: there are a great variety of functions in numpy which are not available in pure Python. F. e. linear algebra, mathematical functions.\n",
        "*   Better performance: it is much faster than pure Python."
      ],
      "metadata": {
        "id": "jSLlHUyXvsMQ"
      }
    },
    {
      "cell_type": "markdown",
      "source": [
        "Usually library is imported with the name `np`"
      ],
      "metadata": {
        "id": "fuWaHlCH0v95"
      }
    },
    {
      "cell_type": "code",
      "source": [
        "import numpy as np"
      ],
      "metadata": {
        "id": "FPefq01e0uzs"
      },
      "execution_count": null,
      "outputs": []
    },
    {
      "cell_type": "markdown",
      "source": [
        "The core object of the Numpy is an array. We may create it in number of ways."
      ],
      "metadata": {
        "id": "8QXKm76Vy4Q5"
      }
    },
    {
      "cell_type": "markdown",
      "source": [
        "#### Creating arrays, basic information"
      ],
      "metadata": {
        "id": "uOmwPNUXW1Nz"
      }
    },
    {
      "cell_type": "markdown",
      "source": [
        "It can be created from python list"
      ],
      "metadata": {
        "id": "hpuJ_oH8zEk_"
      }
    },
    {
      "cell_type": "code",
      "source": [
        "l = [1,2,3]\n",
        "a1 = np.array(l)\n",
        "a1"
      ],
      "metadata": {
        "id": "iDcal4wazDHz"
      },
      "execution_count": null,
      "outputs": []
    },
    {
      "cell_type": "markdown",
      "source": [
        "What happened in the code above? Numbers were in python `list` and we created `array` with them.\n",
        "\n",
        "What is the difference? `list` is a flexible container for data (we can have text, numbers, other lists, sets, dictionaries, etc) as element of the list, they may be used together. In numpy `array` - all the elements have the same type (f. e. only integer numbers) - working with them will be easier and faster"
      ],
      "metadata": {
        "id": "C0momGgHU6Ak"
      }
    },
    {
      "cell_type": "code",
      "source": [
        "type(l)"
      ],
      "metadata": {
        "id": "ymUyt_HxU4Eb"
      },
      "execution_count": null,
      "outputs": []
    },
    {
      "cell_type": "code",
      "source": [
        "type(a1)"
      ],
      "metadata": {
        "id": "9fWDQbyxU2R_"
      },
      "execution_count": null,
      "outputs": []
    },
    {
      "cell_type": "code",
      "source": [
        "#Checking the type of every element in the array\n",
        "a1.dtype"
      ],
      "metadata": {
        "id": "bEw3IAIaU7X6"
      },
      "execution_count": null,
      "outputs": []
    },
    {
      "cell_type": "markdown",
      "source": [
        "In array `a1` all the elements are integer numbers."
      ],
      "metadata": {
        "id": "hlriFboGUJk2"
      }
    },
    {
      "cell_type": "markdown",
      "source": [
        "We also may create 2D array (matrices):"
      ],
      "metadata": {
        "id": "Eykno52fVGna"
      }
    },
    {
      "cell_type": "code",
      "source": [
        "l = [[1,2,3],\n",
        "     [2,4,6]] #list of lists\n",
        "a2 = np.array(l)\n",
        "a2"
      ],
      "metadata": {
        "id": "O3RgPDrkVM1a"
      },
      "execution_count": null,
      "outputs": []
    },
    {
      "cell_type": "markdown",
      "source": [
        "For example, a grading table is a 2D array - every column is a homework, every row - a student"
      ],
      "metadata": {
        "id": "uMjas9QfVZ27"
      }
    },
    {
      "cell_type": "code",
      "source": [
        "grading_table = np.array([[10, 8, 9], #Andy has exellent grades\n",
        "                          [7, 7, 7], #Bill has good grades\n",
        "                          [5, 4, 6], #Carrie has satisfying grades\n",
        "                          [10, 10, 10] #Dave has perfect marks\n",
        "                          ])\n",
        "grading_table"
      ],
      "metadata": {
        "id": "u4Pi5NeJVjH5"
      },
      "execution_count": null,
      "outputs": []
    },
    {
      "cell_type": "markdown",
      "source": [
        "Or even 3D array!"
      ],
      "metadata": {
        "id": "6ezfLqzkVXm_"
      }
    },
    {
      "cell_type": "code",
      "source": [
        "l = [[[1,2,3], [2,4,6]], [[10,20,30], [20,40,60]]]\n",
        "a3 = np.array(l)\n",
        "a3"
      ],
      "metadata": {
        "id": "kXtcRPr1VXIG"
      },
      "execution_count": null,
      "outputs": []
    },
    {
      "cell_type": "markdown",
      "source": [
        "The information (the dimension, number of elements, columns and rows) is saved"
      ],
      "metadata": {
        "id": "dxFZps7PWXtH"
      }
    },
    {
      "cell_type": "code",
      "source": [
        "a1.shape #1D array - 3 elements"
      ],
      "metadata": {
        "id": "AQqY6P23WiAC"
      },
      "execution_count": null,
      "outputs": []
    },
    {
      "cell_type": "code",
      "source": [
        "a2.shape #2D array - 2 rows, 3 columns"
      ],
      "metadata": {
        "id": "Wy1u-eypWlh_"
      },
      "execution_count": null,
      "outputs": []
    },
    {
      "cell_type": "markdown",
      "source": [
        "\n",
        "**Task** Guess - What will be the `shape` of the grading table we created earlier?"
      ],
      "metadata": {
        "id": "MwD3wZOpWrho"
      }
    },
    {
      "cell_type": "code",
      "source": [
        "#code for checking\n",
        "\n",
        "#your code here"
      ],
      "metadata": {
        "id": "lnWRRgGrWqce"
      },
      "execution_count": null,
      "outputs": []
    },
    {
      "cell_type": "markdown",
      "source": [
        "It is possible to checnge the shape of an array:"
      ],
      "metadata": {
        "id": "5gNm_tEbzeG_"
      }
    },
    {
      "cell_type": "code",
      "source": [
        "a2.reshape(6) #make it 1D"
      ],
      "metadata": {
        "id": "2X3FzaEtzjKr"
      },
      "execution_count": null,
      "outputs": []
    },
    {
      "cell_type": "code",
      "source": [
        "a2.reshape((3, 1, 2)) #make it 3D"
      ],
      "metadata": {
        "id": "g4nKf1k40GTj"
      },
      "execution_count": null,
      "outputs": []
    },
    {
      "cell_type": "markdown",
      "source": [
        "But the total number of elements must be the same:\n",
        "\n",
        "$2 \\times 3 = 6 = 3 \\times 1 \\times 2$"
      ],
      "metadata": {
        "id": "tIJuAhqC0MSm"
      }
    },
    {
      "cell_type": "code",
      "source": [
        "#error! there are 6, not 10 elements in the array\n",
        "a2.reshape((5, 2))"
      ],
      "metadata": {
        "id": "SXlz5Ex6Is2W"
      },
      "execution_count": null,
      "outputs": []
    },
    {
      "cell_type": "markdown",
      "source": [
        "Sometimes we may want some special arrays - for example, we may want a matrix filled with zeros. Numpy has functions to do it."
      ],
      "metadata": {
        "id": "w0f18LQPW7Io"
      }
    },
    {
      "cell_type": "code",
      "source": [
        "#Here we want 2D matrix - 4 rows, 2 columns\n",
        "zero_array = np.zeros((4, 2))\n",
        "\n",
        "zero_array"
      ],
      "metadata": {
        "id": "mGI4mJtoXJVu"
      },
      "execution_count": null,
      "outputs": []
    },
    {
      "cell_type": "markdown",
      "source": [
        "Why we may need such and array? For example, grading table before the course is started: no homeworks yet - like all students have zeros :)"
      ],
      "metadata": {
        "id": "AE_jzZJNX6b9"
      }
    },
    {
      "cell_type": "markdown",
      "source": [
        "We also may create array of ones:"
      ],
      "metadata": {
        "id": "VVSLYjiiYRdJ"
      }
    },
    {
      "cell_type": "code",
      "source": [
        "np.ones((4, 3))"
      ],
      "metadata": {
        "id": "dHQmNgynYM0a"
      },
      "execution_count": null,
      "outputs": []
    },
    {
      "cell_type": "markdown",
      "source": [
        "Do we have the same for the number 2? (Spoiler: no)"
      ],
      "metadata": {
        "id": "qdDYrU_XYW76"
      }
    },
    {
      "cell_type": "code",
      "source": [
        "#here will be an error\n",
        "np.twos((4, 3))"
      ],
      "metadata": {
        "id": "Q_QDpphBYbLG"
      },
      "execution_count": null,
      "outputs": []
    },
    {
      "cell_type": "markdown",
      "source": [
        "How do we understand which functions exist? How do we know how to use them?\n",
        "\n",
        "\n",
        "Answer: **documentation** - https://numpy.org/doc/2.0/\n",
        "\n",
        "\n"
      ],
      "metadata": {
        "id": "ZT5oVhp_Y4UY"
      }
    },
    {
      "cell_type": "markdown",
      "source": [
        "#### Documentation"
      ],
      "metadata": {
        "id": "uMzxFT8sq1Mn"
      }
    },
    {
      "cell_type": "markdown",
      "source": [
        "Documentation is like a handbook: it has description of all  functions of the library, examples of usage and tutorials. All good pyhton libraries have documentation.\n",
        "\n",
        "Feel free to consult it!"
      ],
      "metadata": {
        "id": "bFgpOqZwq0w9"
      }
    },
    {
      "cell_type": "markdown",
      "source": [
        "Let's investigate `ones` function (type `ones` in the search bar in documentation, choose `numpy.ones`).\n",
        "\n",
        "We may see possible **arguments** - what exactly we may specify while using the function.\n",
        "\n",
        "Arguments are:\n",
        "\n",
        "\n",
        "\n",
        "*   Non-optional - the ones we must pass. In the function `ones` we passed one argument `shape=(4, 3)` - without it function cannot work. For example, if we are collecting data about residents of some place we must know their name and age.\n",
        "*   Optional - we may specify them, if we need them. In our example we did not use them, but we may add `dtype` - the type of every element in the array. For example, we may want to know the salary of residents, but they may not want to disclose it (so, the default answer for the question will be 'Not disclosed')\n",
        "\n"
      ],
      "metadata": {
        "id": "EB21XATwaojn"
      }
    },
    {
      "cell_type": "markdown",
      "source": [
        "![image.png](data:image/png;base64,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)"
      ],
      "metadata": {
        "id": "h8gDGoOea1pQ"
      }
    },
    {
      "cell_type": "code",
      "source": [
        "#adding optional argument - we want our numbers to be integer\n",
        "np.ones((4, 3), dtype=np.int8)"
      ],
      "metadata": {
        "id": "F23nghLZcpJV"
      },
      "execution_count": null,
      "outputs": []
    },
    {
      "cell_type": "markdown",
      "source": [
        "Which arguments we may specify, which possible values we may pass - all this information is in the documentation.\n",
        "\n",
        "**Documentation is key to writing and understanding code**"
      ],
      "metadata": {
        "id": "LJHWxntda22O"
      }
    },
    {
      "cell_type": "markdown",
      "source": [
        "Another useful funcrion that generates arrays is `arange(a, b, c)` - it generates numbers from `a` to `b` with step `c`."
      ],
      "metadata": {
        "id": "6Y5NsXfwYxRG"
      }
    },
    {
      "cell_type": "code",
      "source": [
        "np.arange(2, 18, 3)"
      ],
      "metadata": {
        "id": "zlr-MgtgYwng"
      },
      "execution_count": null,
      "outputs": []
    },
    {
      "cell_type": "code",
      "source": [
        "list(range(2, 18, 3)) #very similar to range"
      ],
      "metadata": {
        "id": "APEE-0RUZATQ"
      },
      "execution_count": null,
      "outputs": []
    },
    {
      "cell_type": "markdown",
      "source": [
        "The difference is that `range` cannot generate non-integer numbers, but `np.arange` can."
      ],
      "metadata": {
        "id": "F9eEJpETZE5j"
      }
    },
    {
      "cell_type": "code",
      "source": [
        "#error!\n",
        "list(range(1, 10, 0.5))"
      ],
      "metadata": {
        "id": "PLJfTS9NZKOH"
      },
      "execution_count": null,
      "outputs": []
    },
    {
      "cell_type": "code",
      "source": [
        "np.arange(1, 10, 0.5)"
      ],
      "metadata": {
        "id": "JJj9-7YnZPf5"
      },
      "execution_count": null,
      "outputs": []
    },
    {
      "cell_type": "markdown",
      "source": [
        "#### Random numbers"
      ],
      "metadata": {
        "id": "-9KidaiYfvVS"
      }
    },
    {
      "cell_type": "markdown",
      "source": [
        "Remember example with ages of residents of Russia?\n",
        "\n",
        "We manually created fake data (14 million of 7-year-olds and 130 million of 30-year-old). Such data are called **synthetic**.\n",
        "\n",
        "\n",
        "Synthetic data are artificially-generated data which mimics real-world data.\n",
        "\n",
        "Synthetic data is useful for testing algorithms, conducting experiments (Does the code work at all? How much time will it require? Are the results of the algorithm are correct?)\n",
        "\n"
      ],
      "metadata": {
        "id": "AsY8I2rBq7jk"
      }
    },
    {
      "cell_type": "markdown",
      "source": [
        "Often synthetic data is **random** - we assume some distribution and generate from it.\n",
        "\n",
        "In the example with ages we could assume that people may be 0, 1, 2, ..., 100 years old and generate random age for the person."
      ],
      "metadata": {
        "id": "spJeDb0LuqOX"
      }
    },
    {
      "cell_type": "markdown",
      "source": [
        "There are random numbers generators in numpy, f.e. `np.random.randint(a)` generates integer number from 0 to `a` (excluding `a`)"
      ],
      "metadata": {
        "id": "1W9BZmhLxWZA"
      }
    },
    {
      "cell_type": "code",
      "source": [
        "#Random age of a person\n",
        "np.random.randint(101)"
      ],
      "metadata": {
        "id": "Wc5DQWI_xGft"
      },
      "execution_count": null,
      "outputs": []
    },
    {
      "cell_type": "markdown",
      "source": [
        "If we want to generate sample of ages for a lot of people:"
      ],
      "metadata": {
        "id": "LeOcOf4UxlKz"
      }
    },
    {
      "cell_type": "code",
      "source": [
        "synthetic_ages = np.random.randint(101, size=(14000000))"
      ],
      "metadata": {
        "id": "iTzCj_9exjC9"
      },
      "execution_count": null,
      "outputs": []
    },
    {
      "cell_type": "markdown",
      "source": [
        "Let's find the number of children:"
      ],
      "metadata": {
        "id": "HlrSfKFMx-zE"
      }
    },
    {
      "cell_type": "code",
      "source": [
        "compute_number_of_children(synthetic_ages)"
      ],
      "metadata": {
        "id": "4L7o0Ecxx2v9"
      },
      "execution_count": null,
      "outputs": []
    },
    {
      "cell_type": "markdown",
      "source": [
        "Problem: if we run code again (generate new random numbers + compute number of children) or if you run the code yourself, the result will be different:  2 493 453, 2 494 016, 2 494 643, etc.\n",
        "\n",
        "Why? Because the sample was random, so the ages change every time we run the code.\n",
        "\n",
        "\n",
        "It is bad, because we cannot reproduce the experiment.\n",
        "\n",
        "Solution: fix the randomness (we want random numbers, but same random numbers every time)"
      ],
      "metadata": {
        "id": "7ORgleHENueh"
      }
    },
    {
      "cell_type": "code",
      "source": [
        "#Fixing the randomness - setting particular seed\n",
        "np.random.seed(0)\n",
        "\n",
        "np.random.randint(101), np.random.randint(101)"
      ],
      "metadata": {
        "id": "skY7CAWkO0dX"
      },
      "execution_count": null,
      "outputs": []
    },
    {
      "cell_type": "code",
      "source": [
        "np.random.seed(2025)\n",
        "\n",
        "synthetic_ages = np.random.randint(101, size=(14000000))\n",
        "compute_number_of_children(synthetic_ages)"
      ],
      "metadata": {
        "id": "tcxDGrfJXKpX"
      },
      "execution_count": null,
      "outputs": []
    },
    {
      "cell_type": "markdown",
      "source": [
        "Now, if we run the code several times, or using different computer we still will get same results (2 495 867 children)\n",
        "\n",
        "Better fix the seed every time random numbers are generated."
      ],
      "metadata": {
        "id": "prs8ILpMqpEP"
      }
    },
    {
      "cell_type": "markdown",
      "source": [
        "### Aggregation"
      ],
      "metadata": {
        "id": "H-ORluswr4i8"
      }
    },
    {
      "cell_type": "markdown",
      "source": [
        "We often want to aggragate our data:\n",
        "\n",
        "\n",
        "*   What is the total number of immigrants in Russia?\n",
        "*   What is the average age of residents?\n",
        "*   What is the highest salary for Moscow residents?\n",
        "\n"
      ],
      "metadata": {
        "id": "ZWp3gq3tsSGY"
      }
    },
    {
      "cell_type": "markdown",
      "source": [
        "Numpy has aggregation functions:"
      ],
      "metadata": {
        "id": "OVHSTsM_tBru"
      }
    },
    {
      "cell_type": "code",
      "source": [
        "a = np.array([1.7, 4, 2.9, 9])\n",
        "\n",
        "a.sum()"
      ],
      "metadata": {
        "id": "an7zh6c0tKfP"
      },
      "execution_count": null,
      "outputs": []
    },
    {
      "cell_type": "code",
      "source": [
        "a.min()"
      ],
      "metadata": {
        "id": "q3OAW3B0tPEW"
      },
      "execution_count": null,
      "outputs": []
    },
    {
      "cell_type": "code",
      "source": [
        "a.max()"
      ],
      "metadata": {
        "id": "l2MKTamNtQM_"
      },
      "execution_count": null,
      "outputs": []
    },
    {
      "cell_type": "code",
      "source": [
        "a.mean()"
      ],
      "metadata": {
        "id": "wz1jiNsDtS5T"
      },
      "execution_count": null,
      "outputs": []
    },
    {
      "cell_type": "markdown",
      "source": [
        "The same functions may be used for 2D arrays:"
      ],
      "metadata": {
        "id": "rLlIRRkytYWM"
      }
    },
    {
      "cell_type": "code",
      "source": [
        "grading_table"
      ],
      "metadata": {
        "id": "UhMWY_7DtdQk"
      },
      "execution_count": null,
      "outputs": []
    },
    {
      "cell_type": "markdown",
      "source": [
        "Here we will get an average mark for all students and all assignments"
      ],
      "metadata": {
        "id": "J0ksbtzztgnf"
      }
    },
    {
      "cell_type": "code",
      "source": [
        "grading_table.mean()"
      ],
      "metadata": {
        "id": "ok-_MbhCtezj"
      },
      "execution_count": null,
      "outputs": []
    },
    {
      "cell_type": "markdown",
      "source": [
        "If we want to aggregater for every row/colum, we may use `axis` argument"
      ],
      "metadata": {
        "id": "7gVH2PFltlrJ"
      }
    },
    {
      "cell_type": "code",
      "source": [
        "grading_table.mean(axis=1) #Average grade for every student"
      ],
      "metadata": {
        "id": "WVaZk3q8uATl"
      },
      "execution_count": null,
      "outputs": []
    },
    {
      "cell_type": "code",
      "source": [
        "grading_table.mean(axis=0) #Average grade for every assignment"
      ],
      "metadata": {
        "id": "DaziTQQKugi-"
      },
      "execution_count": null,
      "outputs": []
    },
    {
      "cell_type": "markdown",
      "source": [
        "### Indices, slices"
      ],
      "metadata": {
        "id": "W4BsYpdHI_hp"
      }
    },
    {
      "cell_type": "markdown",
      "source": [
        "We can take particular element or a slice of python list, the logic with arrays is the same:"
      ],
      "metadata": {
        "id": "7e5wHqRWJDEb"
      }
    },
    {
      "cell_type": "code",
      "source": [
        "a"
      ],
      "metadata": {
        "id": "wPkGIBUNJMm7"
      },
      "execution_count": null,
      "outputs": []
    },
    {
      "cell_type": "code",
      "source": [
        "a[0]"
      ],
      "metadata": {
        "id": "2c0v2WODJOx-"
      },
      "execution_count": null,
      "outputs": []
    },
    {
      "cell_type": "code",
      "source": [
        "#last element\n",
        "a[-1]"
      ],
      "metadata": {
        "id": "rOuJ7HIKJQV2"
      },
      "execution_count": null,
      "outputs": []
    },
    {
      "cell_type": "code",
      "source": [
        "a[2:]"
      ],
      "metadata": {
        "id": "SK1iTZLmJS7Z"
      },
      "execution_count": null,
      "outputs": []
    },
    {
      "cell_type": "code",
      "source": [
        "a[2:4]"
      ],
      "metadata": {
        "id": "7SrATI7PJUzr"
      },
      "execution_count": null,
      "outputs": []
    },
    {
      "cell_type": "markdown",
      "source": [
        "Additionally, if we know the indices we need, but cannot create a slice (f. e., we may need elements 0, 1 and 1234) we can specify the list of them"
      ],
      "metadata": {
        "id": "WocMBjRoJXec"
      }
    },
    {
      "cell_type": "code",
      "source": [
        "a[[0, 1, 0, -1]] #we want elements 0, 1, 0 again and the last one"
      ],
      "metadata": {
        "id": "rhwDIddcJmTB"
      },
      "execution_count": null,
      "outputs": []
    },
    {
      "cell_type": "markdown",
      "source": [
        "Same logic is used for 2D, 3D, etc arrays."
      ],
      "metadata": {
        "id": "E9CAo-kvSVdo"
      }
    },
    {
      "cell_type": "code",
      "source": [
        "grading_table"
      ],
      "metadata": {
        "id": "YKf1T1xtSZmC"
      },
      "execution_count": null,
      "outputs": []
    },
    {
      "cell_type": "code",
      "source": [
        "grading_table[1:3] #1 and 2 rows"
      ],
      "metadata": {
        "id": "4LUdhJk5SbCf"
      },
      "execution_count": null,
      "outputs": []
    },
    {
      "cell_type": "markdown",
      "source": [
        "Additionally, we can access columns (and further dimensions), using `,`"
      ],
      "metadata": {
        "id": "kiKLzAYZSefG"
      }
    },
    {
      "cell_type": "code",
      "source": [
        "grading_table[:, 2] # column 2 - 1D array, will look like row"
      ],
      "metadata": {
        "id": "RyacGyfUSw92"
      },
      "execution_count": null,
      "outputs": []
    },
    {
      "cell_type": "code",
      "source": [
        "grading_table[:, 1:3] #1 fnd 2 columns, all rows"
      ],
      "metadata": {
        "id": "20ZmqWd_SpNG"
      },
      "execution_count": null,
      "outputs": []
    },
    {
      "cell_type": "code",
      "source": [
        "grading_table[2:4, 1:3]"
      ],
      "metadata": {
        "id": "I4vKZ8-OSvaV"
      },
      "execution_count": null,
      "outputs": []
    },
    {
      "cell_type": "markdown",
      "source": [
        "### Filtering"
      ],
      "metadata": {
        "id": "e4gRJlM0Wkom"
      }
    },
    {
      "cell_type": "markdown",
      "source": [
        "If we need to chosse elements based on some condition - we may not iterate over all elements, but use the whole array"
      ],
      "metadata": {
        "id": "wn8aOhOpWngH"
      }
    },
    {
      "cell_type": "code",
      "source": [
        "a"
      ],
      "metadata": {
        "id": "zZWMqU4TWnBG"
      },
      "execution_count": null,
      "outputs": []
    },
    {
      "cell_type": "code",
      "source": [
        "a < 5"
      ],
      "metadata": {
        "id": "NFO5eXZaW506"
      },
      "execution_count": null,
      "outputs": []
    },
    {
      "cell_type": "markdown",
      "source": [
        "We get array of `bool` elements (True or False). Now, choose the elements using the mask."
      ],
      "metadata": {
        "id": "KL8EwD02W72x"
      }
    },
    {
      "cell_type": "code",
      "source": [
        "a[a < 5]"
      ],
      "metadata": {
        "id": "w8mwPi9uXFvF"
      },
      "execution_count": null,
      "outputs": []
    },
    {
      "cell_type": "markdown",
      "source": [
        "Remember example about children? We waited 1030 seconds using only python, 1 second using numpy arrays.\n",
        "\n",
        "We can write much easier code with numpy:"
      ],
      "metadata": {
        "id": "rCXETCczXpE1"
      }
    },
    {
      "cell_type": "code",
      "source": [
        "len(synthetic_ages[synthetic_ages < 18])"
      ],
      "metadata": {
        "id": "DtOmy2P2X_qb"
      },
      "execution_count": null,
      "outputs": []
    },
    {
      "cell_type": "markdown",
      "source": [
        "We seem to require much less time . Let's accurately measyre it:"
      ],
      "metadata": {
        "id": "WkCZAQQgYF9U"
      }
    },
    {
      "cell_type": "code",
      "source": [
        "%%time\n",
        "#special command in notebook that computes runtime of the cell\n",
        "\n",
        "len(synthetic_ages[synthetic_ages < 18])"
      ],
      "metadata": {
        "id": "0y2xhWZCYQsd"
      },
      "execution_count": null,
      "outputs": []
    },
    {
      "cell_type": "markdown",
      "source": [
        "We required 100 ms, it is 0.1 second - 100 times faster than pure python! Additionally, we required only 1 line of code."
      ],
      "metadata": {
        "id": "3fKXP4UGYf5l"
      }
    },
    {
      "cell_type": "markdown",
      "source": [
        "Simetimes it is also useful to know not only the elements that satisfy the condition, but their indices:"
      ],
      "metadata": {
        "id": "x-sKSPU63cIT"
      }
    },
    {
      "cell_type": "code",
      "source": [
        "np.where(a < 3)"
      ],
      "metadata": {
        "id": "ToaUQYnZ3nPD"
      },
      "execution_count": null,
      "outputs": []
    },
    {
      "cell_type": "markdown",
      "source": [
        "Sorting:"
      ],
      "metadata": {
        "id": "1mx8NkF64GWX"
      }
    },
    {
      "cell_type": "code",
      "source": [
        "np.sort(a)"
      ],
      "metadata": {
        "id": "M-cBvwoY4Ih-"
      },
      "execution_count": null,
      "outputs": []
    },
    {
      "cell_type": "code",
      "source": [
        "np.argsort(a) #indices of elements are sorted based on the value"
      ],
      "metadata": {
        "id": "39Wo-dE94LvH"
      },
      "execution_count": null,
      "outputs": []
    },
    {
      "cell_type": "markdown",
      "source": [
        "### Arithmetic operations"
      ],
      "metadata": {
        "id": "ItIbUTvvI93N"
      }
    },
    {
      "cell_type": "markdown",
      "source": [
        "We can conduct elementwise arithmetic operations with arrays:"
      ],
      "metadata": {
        "id": "RcoLXYohgG75"
      }
    },
    {
      "cell_type": "code",
      "source": [
        "a"
      ],
      "metadata": {
        "id": "kkmuuDhugShc"
      },
      "execution_count": null,
      "outputs": []
    },
    {
      "cell_type": "code",
      "source": [
        "a + 1"
      ],
      "metadata": {
        "id": "Vs6dEwwWgTAC"
      },
      "execution_count": null,
      "outputs": []
    },
    {
      "cell_type": "code",
      "source": [
        "a - 4.2"
      ],
      "metadata": {
        "id": "fvKUvJVaga27"
      },
      "execution_count": null,
      "outputs": []
    },
    {
      "cell_type": "code",
      "source": [
        "a * 5"
      ],
      "metadata": {
        "id": "9iiEhFRLgUJn"
      },
      "execution_count": null,
      "outputs": []
    },
    {
      "cell_type": "code",
      "source": [
        "a / 3"
      ],
      "metadata": {
        "id": "ENFEju1AgaWV"
      },
      "execution_count": null,
      "outputs": []
    },
    {
      "cell_type": "code",
      "source": [
        "a ** 2"
      ],
      "metadata": {
        "id": "FX0QPH2ZgdOI"
      },
      "execution_count": null,
      "outputs": []
    },
    {
      "cell_type": "markdown",
      "source": [
        "Numpy also has some useful mathematical functions ([list](https://numpy.org/doc/2.2/reference/routines.math.html) of functions):"
      ],
      "metadata": {
        "id": "GqH1w8wrm6Gd"
      }
    },
    {
      "cell_type": "code",
      "source": [
        "np.sin(a) #elementwise sin"
      ],
      "metadata": {
        "id": "71hu5_39nB1F"
      },
      "execution_count": null,
      "outputs": []
    },
    {
      "cell_type": "code",
      "source": [
        "np.exp(a)"
      ],
      "metadata": {
        "id": "XZ_RvRwmnJhA"
      },
      "execution_count": null,
      "outputs": []
    },
    {
      "cell_type": "code",
      "source": [
        "np.round(a)"
      ],
      "metadata": {
        "id": "YPF5wmlw31Wo"
      },
      "execution_count": null,
      "outputs": []
    },
    {
      "cell_type": "code",
      "source": [
        "np.round(a ** 2, 1)"
      ],
      "metadata": {
        "id": "DDh3yxP134bQ"
      },
      "execution_count": null,
      "outputs": []
    },
    {
      "cell_type": "markdown",
      "source": [
        "Same with 2D arrays:"
      ],
      "metadata": {
        "id": "iI9LyeMwggYK"
      }
    },
    {
      "cell_type": "code",
      "source": [
        "grading_table * 0.1"
      ],
      "metadata": {
        "id": "uAuTHBXLgoOM"
      },
      "execution_count": null,
      "outputs": []
    },
    {
      "cell_type": "code",
      "source": [
        "np.sin(grading_table)"
      ],
      "metadata": {
        "id": "Xq4lTaD4nLpR"
      },
      "execution_count": null,
      "outputs": []
    },
    {
      "cell_type": "markdown",
      "source": [
        "We can make arithmetic operations with several arrays (if their shapes and sizes are compitable)"
      ],
      "metadata": {
        "id": "PwR1S4iQgsXp"
      }
    },
    {
      "cell_type": "code",
      "source": [
        "b = np.array([1, 2.2, 3.8, -1.])\n",
        "a.shape, b.shape"
      ],
      "metadata": {
        "id": "Piq4Xc49g2zq"
      },
      "execution_count": null,
      "outputs": []
    },
    {
      "cell_type": "code",
      "source": [
        "a + b"
      ],
      "metadata": {
        "id": "mT2jvM3Mg92y"
      },
      "execution_count": null,
      "outputs": []
    },
    {
      "cell_type": "code",
      "source": [
        "a * b"
      ],
      "metadata": {
        "id": "JaVvIvhmg--X"
      },
      "execution_count": null,
      "outputs": []
    },
    {
      "cell_type": "code",
      "source": [
        "c = np.array([1, 2, 3])\n",
        "#error! cannot sum 4 elements and 3 elements\n",
        "a + c"
      ],
      "metadata": {
        "id": "256xcP1AhdGP"
      },
      "execution_count": null,
      "outputs": []
    },
    {
      "cell_type": "code",
      "source": [
        "bonus_points = np.array([[0, 0, 0],\n",
        "       [1, 0, 0.5],\n",
        "       [0.5, 0.5, 1],\n",
        "       [0, 0, 0]])\n",
        "\n",
        "grading_table + bonus_points"
      ],
      "metadata": {
        "id": "IZrkN2LUhAU2"
      },
      "execution_count": null,
      "outputs": []
    },
    {
      "cell_type": "markdown",
      "source": [
        "We may sum/multiply/etc. 2D and 1D arrays (numpy will think we want to work with every row separately)"
      ],
      "metadata": {
        "id": "9Qv_ALmAhbmd"
      }
    },
    {
      "cell_type": "code",
      "source": [
        "#weight of every home assignment\n",
        "weights = np.array([0.3, 0.3, 0.4])\n",
        "\n",
        "grading_table * weights"
      ],
      "metadata": {
        "id": "1VQuxdVFhvia"
      },
      "execution_count": null,
      "outputs": []
    },
    {
      "cell_type": "markdown",
      "source": [
        "We can compute final grades of the students:"
      ],
      "metadata": {
        "id": "AUXqw39fh1jm"
      }
    },
    {
      "cell_type": "code",
      "source": [
        "(grading_table * weights).sum(axis=1)"
      ],
      "metadata": {
        "id": "YzJCWQJ-h8TD"
      },
      "execution_count": null,
      "outputs": []
    },
    {
      "cell_type": "markdown",
      "source": [
        "While working with arrays we may encounter `nan` and `inf` values"
      ],
      "metadata": {
        "id": "yGfkWXxYlL_6"
      }
    },
    {
      "cell_type": "code",
      "source": [
        "b"
      ],
      "metadata": {
        "id": "Q-EqEub9lTQ0"
      },
      "execution_count": null,
      "outputs": []
    },
    {
      "cell_type": "code",
      "source": [
        "b / 0"
      ],
      "metadata": {
        "id": "jLlja-2mlV08"
      },
      "execution_count": null,
      "outputs": []
    },
    {
      "cell_type": "markdown",
      "source": [
        "We cannot divide by 0 (if we divide numbers, we get `ZeroDivisionError`), but numpy does not raise any error (only warning). Numpy gives `inf` = infinity (dividing by very small valy gives huge number, so dividing by zero - infinitely big number)"
      ],
      "metadata": {
        "id": "BpkSKWzQlXA5"
      }
    },
    {
      "cell_type": "code",
      "source": [
        "zeros = np.zeros((5, 2))\n",
        "\n",
        "zeros / 0"
      ],
      "metadata": {
        "id": "Fk55yL65l--z"
      },
      "execution_count": null,
      "outputs": []
    },
    {
      "cell_type": "markdown",
      "source": [
        "Here we tried diving zero by zero and the result is undefined, so numpy gives `nan` = Not-a-Number. Usually, `nan` in the results of the experiments mean that something went wrong and numpy cannot compute the number.\n",
        "\n",
        "Further computing is problematic:"
      ],
      "metadata": {
        "id": "H1dFCr9imFk6"
      }
    },
    {
      "cell_type": "code",
      "source": [
        "np.nan + 2"
      ],
      "metadata": {
        "id": "DOvKWrn7mrlp"
      },
      "execution_count": null,
      "outputs": []
    },
    {
      "cell_type": "code",
      "source": [
        "np.nan + np.nan"
      ],
      "metadata": {
        "id": "kofkLdukmtbO"
      },
      "execution_count": null,
      "outputs": []
    },
    {
      "cell_type": "code",
      "source": [
        "np.nan - np.nan"
      ],
      "metadata": {
        "id": "dZ3urW03mvFy"
      },
      "execution_count": null,
      "outputs": []
    },
    {
      "cell_type": "code",
      "source": [
        "np.nan - np.inf"
      ],
      "metadata": {
        "id": "CfTBPNpEmxUH"
      },
      "execution_count": null,
      "outputs": []
    },
    {
      "cell_type": "code",
      "source": [
        "np.inf - np.inf"
      ],
      "metadata": {
        "id": "qL21bH7Amzpt"
      },
      "execution_count": null,
      "outputs": []
    },
    {
      "cell_type": "markdown",
      "source": [
        "### Real data! + Tasks"
      ],
      "metadata": {
        "id": "wuGLuvstv_C0"
      }
    },
    {
      "cell_type": "markdown",
      "source": [
        "It is possible to easily download data from GitHub in notebooks:"
      ],
      "metadata": {
        "id": "1yVerHOzEcuE"
      }
    },
    {
      "cell_type": "code",
      "source": [
        "!wget https://github.com/Majid-Sohrabi/DAM-2025/raw/refs/heads/main/01-intro/world_population.npy\n",
        "!wget https://github.com/Majid-Sohrabi/DAM-2025/raw/refs/heads/main/01-intro/world_population_countries.npy"
      ],
      "metadata": {
        "id": "bvHl9AOdDsD-"
      },
      "execution_count": null,
      "outputs": []
    },
    {
      "cell_type": "markdown",
      "source": [
        "Let's apply our knowledge of Numpy to some real data([Source](https://www.kaggle.com/datasets/iamsouravbanerjee/world-population-dataset/code) of data).\n",
        "\n",
        "We do not create data manually, we upload it from the file using numpy."
      ],
      "metadata": {
        "id": "6US9eeEowB7c"
      }
    },
    {
      "cell_type": "code",
      "source": [
        "import numpy as np"
      ],
      "metadata": {
        "id": "7bMTJBB_EoBL"
      },
      "execution_count": null,
      "outputs": []
    },
    {
      "cell_type": "code",
      "source": [
        "population = np.load('/content/world_population.npy')\n",
        "population.shape"
      ],
      "metadata": {
        "id": "wwm9rWOOw5-R"
      },
      "execution_count": null,
      "outputs": []
    },
    {
      "cell_type": "markdown",
      "source": [
        "The array contain population of 234 countries in years 2020, 2010, 2000, 1990, 1980 and 1970 (6 columns)\n",
        "\n"
      ],
      "metadata": {
        "id": "jJOwBWdsxDbw"
      }
    },
    {
      "cell_type": "markdown",
      "source": [
        "**Task** What is the total population of all the countries during every year?"
      ],
      "metadata": {
        "id": "aBYm5IO1xfoT"
      }
    },
    {
      "cell_type": "code",
      "source": [
        "#your code here"
      ],
      "metadata": {
        "id": "5RFyPf1Ex33F"
      },
      "execution_count": null,
      "outputs": []
    },
    {
      "cell_type": "markdown",
      "source": [
        "**Task** How many countries had more than 1 billion people in 2020? And in 1970?"
      ],
      "metadata": {
        "id": "id5LC8C_yCJw"
      }
    },
    {
      "cell_type": "code",
      "source": [
        "#your code here"
      ],
      "metadata": {
        "id": "E437jxcYyBOW"
      },
      "execution_count": null,
      "outputs": []
    },
    {
      "cell_type": "markdown",
      "source": [
        "**Task** How big was the biggest growth in population from 1970 to 2020?"
      ],
      "metadata": {
        "id": "7I8eX2N7ooYS"
      }
    },
    {
      "cell_type": "code",
      "source": [
        "#your code here"
      ],
      "metadata": {
        "id": "C-5NxYtiovk2"
      },
      "execution_count": null,
      "outputs": []
    },
    {
      "cell_type": "markdown",
      "source": [
        "Let's also upload the array of names of the countries."
      ],
      "metadata": {
        "id": "nekGcGtT1uk7"
      }
    },
    {
      "cell_type": "code",
      "source": [
        "countries = np.load('/content/world_population_countries.npy', allow_pickle=True)\n",
        "countries.shape"
      ],
      "metadata": {
        "id": "OPAtKrrU12sk"
      },
      "execution_count": null,
      "outputs": []
    },
    {
      "cell_type": "code",
      "source": [
        "countries[:5]"
      ],
      "metadata": {
        "id": "IsmMDvLC19M0"
      },
      "execution_count": null,
      "outputs": []
    },
    {
      "cell_type": "markdown",
      "source": [
        "**Task** How many millions of people lived in Russia  in 2000? Round to 1 digit (like 3.4 millions)\n",
        "\n",
        "Hint: firstly find the index of Russia in the array"
      ],
      "metadata": {
        "id": "-uWt5SmBaM18"
      }
    },
    {
      "cell_type": "code",
      "source": [
        "#your code here"
      ],
      "metadata": {
        "id": "ed6Ek4DqajCl"
      },
      "execution_count": null,
      "outputs": []
    },
    {
      "cell_type": "markdown",
      "source": [
        "**Task** Which are the top-10 most populated countries in 1990? And in 2000? Are these the same countries?"
      ],
      "metadata": {
        "id": "d-NtjLSw2dk1"
      }
    },
    {
      "cell_type": "code",
      "source": [
        "#your code here"
      ],
      "metadata": {
        "id": "beBXnNXt4dhY"
      },
      "execution_count": null,
      "outputs": []
    },
    {
      "cell_type": "markdown",
      "source": [
        "**Task** Depict the growth in population of Ghana for every decade"
      ],
      "metadata": {
        "id": "7XWfivFLF7K2"
      }
    },
    {
      "cell_type": "code",
      "source": [
        "#your code here"
      ],
      "metadata": {
        "id": "vG9JVdPAF6YY"
      },
      "execution_count": null,
      "outputs": []
    },
    {
      "cell_type": "markdown",
      "source": [
        "## GitHub"
      ],
      "metadata": {
        "id": "qRzflCkjpR0N"
      }
    },
    {
      "cell_type": "markdown",
      "source": [
        "Your final project should ba availible on GitHub\n",
        "\n",
        "Instructions:\n",
        "\n",
        "*   [How to register](https://docs.github.com/en/get-started/start-your-journey/creating-an-account-on-github)\n",
        "*   [How to create a repository](https://docs.github.com/en/repositories/creating-and-managing-repositories/quickstart-for-repositories)\n",
        "*   [How to add collaborators](https://docs.github.com/ru/account-and-profile/how-tos/setting-up-and-managing-your-personal-account-on-github/managing-access-to-your-personal-repositories/inviting-collaborators-to-a-personal-repository)\n",
        "\n",
        "\n",
        "\n",
        "\n",
        "\n"
      ],
      "metadata": {
        "id": "BFrsTfjApZ9V"
      }
    }
  ]
}